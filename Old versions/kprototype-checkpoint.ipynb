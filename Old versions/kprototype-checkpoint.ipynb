{
 "cells": [
  {
   "cell_type": "code",
   "execution_count": 2,
   "id": "7707d90e-d291-4545-bd9d-a883150f23b6",
   "metadata": {},
   "outputs": [
    {
     "ename": "KeyboardInterrupt",
     "evalue": "",
     "output_type": "error",
     "traceback": [
      "\u001b[1;31m---------------------------------------------------------------------------\u001b[0m",
      "\u001b[1;31mKeyboardInterrupt\u001b[0m                         Traceback (most recent call last)",
      "Cell \u001b[1;32mIn[2], line 38\u001b[0m\n\u001b[0;32m     36\u001b[0m \u001b[38;5;28;01mfor\u001b[39;00m k \u001b[38;5;129;01min\u001b[39;00m K_range:\n\u001b[0;32m     37\u001b[0m     kp \u001b[38;5;241m=\u001b[39m KPrototypes(n_clusters\u001b[38;5;241m=\u001b[39mk, init\u001b[38;5;241m=\u001b[39m\u001b[38;5;124m\"\u001b[39m\u001b[38;5;124mCao\u001b[39m\u001b[38;5;124m\"\u001b[39m, n_init\u001b[38;5;241m=\u001b[39m\u001b[38;5;241m5\u001b[39m, verbose\u001b[38;5;241m=\u001b[39m\u001b[38;5;241m0\u001b[39m)\n\u001b[1;32m---> 38\u001b[0m     clusters \u001b[38;5;241m=\u001b[39m kp\u001b[38;5;241m.\u001b[39mfit_predict(df_full_np, categorical\u001b[38;5;241m=\u001b[39m[df_full\u001b[38;5;241m.\u001b[39mcolumns\u001b[38;5;241m.\u001b[39mget_loc(col) \n\u001b[0;32m     39\u001b[0m                                                        \u001b[38;5;28;01mfor\u001b[39;00m col \u001b[38;5;129;01min\u001b[39;00m categorical_cols])\n\u001b[0;32m     40\u001b[0m     costs\u001b[38;5;241m.\u001b[39mappend(kp\u001b[38;5;241m.\u001b[39mcost_)\n\u001b[0;32m     42\u001b[0m \u001b[38;5;66;03m# Plot the cost function to find the optimal K\u001b[39;00m\n",
      "File \u001b[1;32m~\\AppData\\Local\\anaconda3\\Lib\\site-packages\\kmodes\\kmodes.py:154\u001b[0m, in \u001b[0;36mKModes.fit_predict\u001b[1;34m(self, X, y, **kwargs)\u001b[0m\n\u001b[0;32m    148\u001b[0m \u001b[38;5;28;01mdef\u001b[39;00m \u001b[38;5;21mfit_predict\u001b[39m(\u001b[38;5;28mself\u001b[39m, X, y\u001b[38;5;241m=\u001b[39m\u001b[38;5;28;01mNone\u001b[39;00m, \u001b[38;5;241m*\u001b[39m\u001b[38;5;241m*\u001b[39mkwargs):\n\u001b[0;32m    149\u001b[0m \u001b[38;5;250m    \u001b[39m\u001b[38;5;124;03m\"\"\"Compute cluster centroids and predict cluster index for each sample.\u001b[39;00m\n\u001b[0;32m    150\u001b[0m \n\u001b[0;32m    151\u001b[0m \u001b[38;5;124;03m    Convenience method; equivalent to calling fit(X) followed by\u001b[39;00m\n\u001b[0;32m    152\u001b[0m \u001b[38;5;124;03m    predict(X).\u001b[39;00m\n\u001b[0;32m    153\u001b[0m \u001b[38;5;124;03m    \"\"\"\u001b[39;00m\n\u001b[1;32m--> 154\u001b[0m     \u001b[38;5;28;01mreturn\u001b[39;00m \u001b[38;5;28mself\u001b[39m\u001b[38;5;241m.\u001b[39mfit(X, \u001b[38;5;241m*\u001b[39m\u001b[38;5;241m*\u001b[39mkwargs)\u001b[38;5;241m.\u001b[39mpredict(X, \u001b[38;5;241m*\u001b[39m\u001b[38;5;241m*\u001b[39mkwargs)\n",
      "File \u001b[1;32m~\\AppData\\Local\\anaconda3\\Lib\\site-packages\\kmodes\\kprototypes.py:161\u001b[0m, in \u001b[0;36mKPrototypes.fit\u001b[1;34m(self, X, y, categorical, sample_weight)\u001b[0m\n\u001b[0;32m    155\u001b[0m kmodes\u001b[38;5;241m.\u001b[39m_validate_sample_weight(sample_weight, n_samples\u001b[38;5;241m=\u001b[39mX\u001b[38;5;241m.\u001b[39mshape[\u001b[38;5;241m0\u001b[39m],\n\u001b[0;32m    156\u001b[0m                                n_clusters\u001b[38;5;241m=\u001b[39m\u001b[38;5;28mself\u001b[39m\u001b[38;5;241m.\u001b[39mn_clusters)\n\u001b[0;32m    158\u001b[0m \u001b[38;5;66;03m# If self.gamma is None, gamma will be automatically determined from\u001b[39;00m\n\u001b[0;32m    159\u001b[0m \u001b[38;5;66;03m# the data. The function below returns its value.\u001b[39;00m\n\u001b[0;32m    160\u001b[0m \u001b[38;5;28mself\u001b[39m\u001b[38;5;241m.\u001b[39m_enc_cluster_centroids, \u001b[38;5;28mself\u001b[39m\u001b[38;5;241m.\u001b[39m_enc_map, \u001b[38;5;28mself\u001b[39m\u001b[38;5;241m.\u001b[39mlabels_, \u001b[38;5;28mself\u001b[39m\u001b[38;5;241m.\u001b[39mcost_, \\\n\u001b[1;32m--> 161\u001b[0m \u001b[38;5;28mself\u001b[39m\u001b[38;5;241m.\u001b[39mn_iter_, \u001b[38;5;28mself\u001b[39m\u001b[38;5;241m.\u001b[39mepoch_costs_, \u001b[38;5;28mself\u001b[39m\u001b[38;5;241m.\u001b[39mgamma \u001b[38;5;241m=\u001b[39m k_prototypes(\n\u001b[0;32m    162\u001b[0m     X,\n\u001b[0;32m    163\u001b[0m     categorical,\n\u001b[0;32m    164\u001b[0m     \u001b[38;5;28mself\u001b[39m\u001b[38;5;241m.\u001b[39mn_clusters,\n\u001b[0;32m    165\u001b[0m     \u001b[38;5;28mself\u001b[39m\u001b[38;5;241m.\u001b[39mmax_iter,\n\u001b[0;32m    166\u001b[0m     \u001b[38;5;28mself\u001b[39m\u001b[38;5;241m.\u001b[39mnum_dissim,\n\u001b[0;32m    167\u001b[0m     \u001b[38;5;28mself\u001b[39m\u001b[38;5;241m.\u001b[39mcat_dissim,\n\u001b[0;32m    168\u001b[0m     \u001b[38;5;28mself\u001b[39m\u001b[38;5;241m.\u001b[39mgamma,\n\u001b[0;32m    169\u001b[0m     \u001b[38;5;28mself\u001b[39m\u001b[38;5;241m.\u001b[39minit,\n\u001b[0;32m    170\u001b[0m     \u001b[38;5;28mself\u001b[39m\u001b[38;5;241m.\u001b[39mn_init,\n\u001b[0;32m    171\u001b[0m     \u001b[38;5;28mself\u001b[39m\u001b[38;5;241m.\u001b[39mverbose,\n\u001b[0;32m    172\u001b[0m     random_state,\n\u001b[0;32m    173\u001b[0m     \u001b[38;5;28mself\u001b[39m\u001b[38;5;241m.\u001b[39mn_jobs,\n\u001b[0;32m    174\u001b[0m     sample_weight,\n\u001b[0;32m    175\u001b[0m )\n\u001b[0;32m    177\u001b[0m \u001b[38;5;28;01mreturn\u001b[39;00m \u001b[38;5;28mself\u001b[39m\n",
      "File \u001b[1;32m~\\AppData\\Local\\anaconda3\\Lib\\site-packages\\kmodes\\kprototypes.py:299\u001b[0m, in \u001b[0;36mk_prototypes\u001b[1;34m(X, categorical, n_clusters, max_iter, num_dissim, cat_dissim, gamma, init, n_init, verbose, random_state, n_jobs, sample_weight)\u001b[0m\n\u001b[0;32m    297\u001b[0m \u001b[38;5;28;01mif\u001b[39;00m n_jobs \u001b[38;5;241m==\u001b[39m \u001b[38;5;241m1\u001b[39m:\n\u001b[0;32m    298\u001b[0m     \u001b[38;5;28;01mfor\u001b[39;00m init_no \u001b[38;5;129;01min\u001b[39;00m \u001b[38;5;28mrange\u001b[39m(n_init):\n\u001b[1;32m--> 299\u001b[0m         results\u001b[38;5;241m.\u001b[39mappend(_k_prototypes_single(Xnum, Xcat, nnumattrs, ncatattrs,\n\u001b[0;32m    300\u001b[0m                                             n_clusters, n_points, max_iter,\n\u001b[0;32m    301\u001b[0m                                             num_dissim, cat_dissim, gamma,\n\u001b[0;32m    302\u001b[0m                                             init, init_no, verbose, seeds[init_no],\n\u001b[0;32m    303\u001b[0m                                             sample_weight))\n\u001b[0;32m    304\u001b[0m \u001b[38;5;28;01melse\u001b[39;00m:\n\u001b[0;32m    305\u001b[0m     results \u001b[38;5;241m=\u001b[39m Parallel(n_jobs\u001b[38;5;241m=\u001b[39mn_jobs, verbose\u001b[38;5;241m=\u001b[39m\u001b[38;5;241m0\u001b[39m)(\n\u001b[0;32m    306\u001b[0m         delayed(_k_prototypes_single)(Xnum, Xcat, nnumattrs, ncatattrs,\n\u001b[0;32m    307\u001b[0m                                       n_clusters, n_points, max_iter,\n\u001b[0;32m    308\u001b[0m                                       num_dissim, cat_dissim, gamma,\n\u001b[0;32m    309\u001b[0m                                       init, init_no, verbose, seed, sample_weight)\n\u001b[0;32m    310\u001b[0m         \u001b[38;5;28;01mfor\u001b[39;00m init_no, seed \u001b[38;5;129;01min\u001b[39;00m \u001b[38;5;28menumerate\u001b[39m(seeds))\n",
      "File \u001b[1;32m~\\AppData\\Local\\anaconda3\\Lib\\site-packages\\kmodes\\kprototypes.py:441\u001b[0m, in \u001b[0;36m_k_prototypes_single\u001b[1;34m(Xnum, Xcat, nnumattrs, ncatattrs, n_clusters, n_points, max_iter, num_dissim, cat_dissim, gamma, init, init_no, verbose, random_state, sample_weight)\u001b[0m\n\u001b[0;32m    435\u001b[0m centroids, cl_attr_sum, cl_memb_sum, cl_attr_freq, membship, moves \u001b[38;5;241m=\u001b[39m \\\n\u001b[0;32m    436\u001b[0m     _k_prototypes_iter(Xnum, Xcat, centroids, cl_attr_sum, cl_memb_sum,\n\u001b[0;32m    437\u001b[0m                        cl_attr_freq, membship, num_dissim, cat_dissim,\n\u001b[0;32m    438\u001b[0m                        gamma, random_state, sample_weight)\n\u001b[0;32m    440\u001b[0m \u001b[38;5;66;03m# All points seen in this iteration\u001b[39;00m\n\u001b[1;32m--> 441\u001b[0m labels, ncost \u001b[38;5;241m=\u001b[39m labels_cost(Xnum, Xcat, centroids,\n\u001b[0;32m    442\u001b[0m                             num_dissim, cat_dissim, gamma, membship, sample_weight)\n\u001b[0;32m    443\u001b[0m converged \u001b[38;5;241m=\u001b[39m (moves \u001b[38;5;241m==\u001b[39m \u001b[38;5;241m0\u001b[39m) \u001b[38;5;129;01mor\u001b[39;00m (ncost \u001b[38;5;241m>\u001b[39m\u001b[38;5;241m=\u001b[39m cost)\n\u001b[0;32m    444\u001b[0m epoch_costs\u001b[38;5;241m.\u001b[39mappend(ncost)\n",
      "File \u001b[1;32m~\\AppData\\Local\\anaconda3\\Lib\\site-packages\\kmodes\\kprototypes.py:236\u001b[0m, in \u001b[0;36mlabels_cost\u001b[1;34m(Xnum, Xcat, centroids, num_dissim, cat_dissim, gamma, membship, sample_weight)\u001b[0m\n\u001b[0;32m    234\u001b[0m \u001b[38;5;66;03m# Gamma relates the categorical cost to the numerical cost.\u001b[39;00m\n\u001b[0;32m    235\u001b[0m tot_costs \u001b[38;5;241m=\u001b[39m num_costs \u001b[38;5;241m+\u001b[39m gamma \u001b[38;5;241m*\u001b[39m cat_costs\n\u001b[1;32m--> 236\u001b[0m clust \u001b[38;5;241m=\u001b[39m np\u001b[38;5;241m.\u001b[39margmin(tot_costs)\n\u001b[0;32m    237\u001b[0m labels[ipoint] \u001b[38;5;241m=\u001b[39m clust\n\u001b[0;32m    238\u001b[0m \u001b[38;5;28;01mif\u001b[39;00m sample_weight \u001b[38;5;129;01mis\u001b[39;00m \u001b[38;5;129;01mnot\u001b[39;00m \u001b[38;5;28;01mNone\u001b[39;00m:\n",
      "File \u001b[1;32m~\\AppData\\Local\\anaconda3\\Lib\\site-packages\\numpy\\core\\fromnumeric.py:1232\u001b[0m, in \u001b[0;36m_argmin_dispatcher\u001b[1;34m(a, axis, out, keepdims)\u001b[0m\n\u001b[0;32m   1228\u001b[0m     kwds \u001b[38;5;241m=\u001b[39m {\u001b[38;5;124m'\u001b[39m\u001b[38;5;124mkeepdims\u001b[39m\u001b[38;5;124m'\u001b[39m: keepdims} \u001b[38;5;28;01mif\u001b[39;00m keepdims \u001b[38;5;129;01mis\u001b[39;00m \u001b[38;5;129;01mnot\u001b[39;00m np\u001b[38;5;241m.\u001b[39m_NoValue \u001b[38;5;28;01melse\u001b[39;00m {}\n\u001b[0;32m   1229\u001b[0m     \u001b[38;5;28;01mreturn\u001b[39;00m _wrapfunc(a, \u001b[38;5;124m'\u001b[39m\u001b[38;5;124margmax\u001b[39m\u001b[38;5;124m'\u001b[39m, axis\u001b[38;5;241m=\u001b[39maxis, out\u001b[38;5;241m=\u001b[39mout, \u001b[38;5;241m*\u001b[39m\u001b[38;5;241m*\u001b[39mkwds)\n\u001b[1;32m-> 1232\u001b[0m \u001b[38;5;28;01mdef\u001b[39;00m \u001b[38;5;21m_argmin_dispatcher\u001b[39m(a, axis\u001b[38;5;241m=\u001b[39m\u001b[38;5;28;01mNone\u001b[39;00m, out\u001b[38;5;241m=\u001b[39m\u001b[38;5;28;01mNone\u001b[39;00m, \u001b[38;5;241m*\u001b[39m, keepdims\u001b[38;5;241m=\u001b[39mnp\u001b[38;5;241m.\u001b[39m_NoValue):\n\u001b[0;32m   1233\u001b[0m     \u001b[38;5;28;01mreturn\u001b[39;00m (a, out)\n\u001b[0;32m   1236\u001b[0m \u001b[38;5;129m@array_function_dispatch\u001b[39m(_argmin_dispatcher)\n\u001b[0;32m   1237\u001b[0m \u001b[38;5;28;01mdef\u001b[39;00m \u001b[38;5;21margmin\u001b[39m(a, axis\u001b[38;5;241m=\u001b[39m\u001b[38;5;28;01mNone\u001b[39;00m, out\u001b[38;5;241m=\u001b[39m\u001b[38;5;28;01mNone\u001b[39;00m, \u001b[38;5;241m*\u001b[39m, keepdims\u001b[38;5;241m=\u001b[39mnp\u001b[38;5;241m.\u001b[39m_NoValue):\n",
      "\u001b[1;31mKeyboardInterrupt\u001b[0m: "
     ]
    }
   ],
   "source": [
    "import warnings\n",
    "warnings.filterwarnings('ignore')\n",
    "\n",
    "from kmodes.kprototypes import KPrototypes\n",
    "from sklearn.preprocessing import LabelEncoder\n",
    "from sklearn.preprocessing import StandardScaler\n",
    "import pandas as pd\n",
    "import numpy as np\n",
    "import matplotlib.pyplot as plt\n",
    "\n",
    "# Load dataset\n",
    "file_path = \"shopping_behavior_updated.csv\"\n",
    "df = pd.read_csv(file_path)\n",
    "\n",
    "# Use all available features\n",
    "df_full = df.copy()\n",
    "df_full.drop(['Customer ID'], axis=1, inplace=True)\n",
    "\n",
    "# Identify categorical and numerical columns\n",
    "categorical_cols = df_full.select_dtypes(include=['object']).columns.tolist()\n",
    "numerical_cols = df_full.select_dtypes(include=['number']).columns.tolist()\n",
    "\n",
    "# Encode categorical variables\n",
    "label_encoders = {}\n",
    "for col in categorical_cols:\n",
    "    le = LabelEncoder()\n",
    "    df_full[col] = le.fit_transform(df_full[col])\n",
    "    label_encoders[col] = le\n",
    "\n",
    "# Convert dataframe to numpy array for KPrototypes\n",
    "df_full_np = df_full.to_numpy()\n",
    "\n",
    "# Determine the optimal number of clusters using the elbow method\n",
    "costs = []\n",
    "K_range = range(2, 10)\n",
    "for k in K_range:\n",
    "    kp = KPrototypes(n_clusters=k, init=\"Cao\", n_init=5, verbose=0)\n",
    "    clusters = kp.fit_predict(df_full_np, categorical=[df_full.columns.get_loc(col) \n",
    "                                                       for col in categorical_cols])\n",
    "    costs.append(kp.cost_)\n",
    "\n",
    "# Plot the cost function to find the optimal K\n",
    "plt.figure(figsize=(8, 5))\n",
    "plt.plot(K_range, costs, marker=\"o\", linestyle=\"-\")\n",
    "plt.xlabel(\"Number of Clusters (K)\")\n",
    "plt.ylabel(\"Cost Function\")\n",
    "plt.title(\"Elbow Method for Optimal K in K-Prototypes Clustering\")\n",
    "plt.grid(True)\n",
    "plt.show()\n",
    "\n"
   ]
  },
  {
   "cell_type": "code",
   "execution_count": 31,
   "id": "aaf27438-37be-439c-96fe-27df3b87bb51",
   "metadata": {},
   "outputs": [],
   "source": [
    "# Apply K-Prototypes clustering with optimal K (assume 4 for now, replace based on the plot)\n",
    "optimal_k = 4\n",
    "kprototypes_model = KPrototypes(n_clusters=optimal_k, init=\"Cao\", n_init=5, verbose=0)\n",
    "df_full[\"prod_cluster\"] = kprototypes_model.fit_predict(df_full_np, categorical=[df_full.columns.get_loc(col) for col in categorical_cols])\n",
    "\n",
    "# Decode cluster composition back to human-readable values\n",
    "def decode_cluster(row):\n",
    "    for col in categorical_cols:\n",
    "        row[col] = label_encoders[col].inverse_transform([int(row[col])])[0]\n",
    "\n",
    "    for col in num\n",
    "    \n",
    "    return row\n",
    "\n",
    "\n",
    "cluster_composition = df_full.groupby(\"prod_cluster\").apply(lambda x: x.mode().iloc[0]).apply(decode_cluster, axis=1)\n",
    "\n",
    "# Investigate clustering results\n",
    "cluster_counts = df_full[\"prod_cluster\"].value_counts()\n",
    "cluster_summary = df_full.groupby(\"prod_cluster\").mean()\n"
   ]
  },
  {
   "cell_type": "code",
   "execution_count": 48,
   "id": "0328854a-c22c-4591-ae25-bb6a6b1cc9f9",
   "metadata": {},
   "outputs": [
    {
     "data": {
      "text/plain": [
       "array([[10.08658928],\n",
       "       [49.03636147],\n",
       "       [ 9.13659484],\n",
       "       [30.0364726 ]])"
      ]
     },
     "execution_count": 48,
     "metadata": {},
     "output_type": "execute_result"
    }
   ],
   "source": [
    "scaler.inverse_transform(cluster_composition[['Age']])"
   ]
  },
  {
   "cell_type": "code",
   "execution_count": null,
   "id": "49f8d3b4-16d7-4986-a955-82ddadcf059f",
   "metadata": {},
   "outputs": [],
   "source": []
  },
  {
   "cell_type": "code",
   "execution_count": 32,
   "id": "c9261359-6f5b-4a75-9b89-ca50e71a9570",
   "metadata": {},
   "outputs": [
    {
     "data": {
      "text/html": [
       "<div>\n",
       "<style scoped>\n",
       "    .dataframe tbody tr th:only-of-type {\n",
       "        vertical-align: middle;\n",
       "    }\n",
       "\n",
       "    .dataframe tbody tr th {\n",
       "        vertical-align: top;\n",
       "    }\n",
       "\n",
       "    .dataframe thead th {\n",
       "        text-align: right;\n",
       "    }\n",
       "</style>\n",
       "<table border=\"1\" class=\"dataframe\">\n",
       "  <thead>\n",
       "    <tr style=\"text-align: right;\">\n",
       "      <th>prod_cluster</th>\n",
       "      <th>0</th>\n",
       "      <th>1</th>\n",
       "      <th>2</th>\n",
       "      <th>3</th>\n",
       "    </tr>\n",
       "    <tr>\n",
       "      <th>0</th>\n",
       "      <th></th>\n",
       "      <th></th>\n",
       "      <th></th>\n",
       "      <th></th>\n",
       "    </tr>\n",
       "  </thead>\n",
       "  <tbody>\n",
       "    <tr>\n",
       "      <th>Age</th>\n",
       "      <td>-1.056744</td>\n",
       "      <td>1.639624</td>\n",
       "      <td>-1.122509</td>\n",
       "      <td>0.324323</td>\n",
       "    </tr>\n",
       "    <tr>\n",
       "      <th>Gender</th>\n",
       "      <td>Male</td>\n",
       "      <td>Male</td>\n",
       "      <td>Male</td>\n",
       "      <td>Male</td>\n",
       "    </tr>\n",
       "    <tr>\n",
       "      <th>Item Purchased</th>\n",
       "      <td>T-shirt</td>\n",
       "      <td>Sunglasses</td>\n",
       "      <td>Sweater</td>\n",
       "      <td>Blouse</td>\n",
       "    </tr>\n",
       "    <tr>\n",
       "      <th>Category</th>\n",
       "      <td>Clothing</td>\n",
       "      <td>Clothing</td>\n",
       "      <td>Clothing</td>\n",
       "      <td>Clothing</td>\n",
       "    </tr>\n",
       "    <tr>\n",
       "      <th>Purchase Amount (USD)</th>\n",
       "      <td>1.445618</td>\n",
       "      <td>-1.467943</td>\n",
       "      <td>-1.003463</td>\n",
       "      <td>1.192265</td>\n",
       "    </tr>\n",
       "    <tr>\n",
       "      <th>Location</th>\n",
       "      <td>North Dakota</td>\n",
       "      <td>Louisiana</td>\n",
       "      <td>Nebraska</td>\n",
       "      <td>Pennsylvania</td>\n",
       "    </tr>\n",
       "    <tr>\n",
       "      <th>Size</th>\n",
       "      <td>M</td>\n",
       "      <td>M</td>\n",
       "      <td>M</td>\n",
       "      <td>M</td>\n",
       "    </tr>\n",
       "    <tr>\n",
       "      <th>Color</th>\n",
       "      <td>Green</td>\n",
       "      <td>Teal</td>\n",
       "      <td>Yellow</td>\n",
       "      <td>Gray</td>\n",
       "    </tr>\n",
       "    <tr>\n",
       "      <th>Season</th>\n",
       "      <td>Fall</td>\n",
       "      <td>Spring</td>\n",
       "      <td>Winter</td>\n",
       "      <td>Summer</td>\n",
       "    </tr>\n",
       "    <tr>\n",
       "      <th>Review Rating</th>\n",
       "      <td>3.4</td>\n",
       "      <td>2.6</td>\n",
       "      <td>4.6</td>\n",
       "      <td>4.0</td>\n",
       "    </tr>\n",
       "    <tr>\n",
       "      <th>Subscription Status</th>\n",
       "      <td>No</td>\n",
       "      <td>No</td>\n",
       "      <td>No</td>\n",
       "      <td>No</td>\n",
       "    </tr>\n",
       "    <tr>\n",
       "      <th>Shipping Type</th>\n",
       "      <td>Free Shipping</td>\n",
       "      <td>Next Day Air</td>\n",
       "      <td>Standard</td>\n",
       "      <td>2-Day Shipping</td>\n",
       "    </tr>\n",
       "    <tr>\n",
       "      <th>Discount Applied</th>\n",
       "      <td>No</td>\n",
       "      <td>Yes</td>\n",
       "      <td>No</td>\n",
       "      <td>No</td>\n",
       "    </tr>\n",
       "    <tr>\n",
       "      <th>Promo Code Used</th>\n",
       "      <td>No</td>\n",
       "      <td>Yes</td>\n",
       "      <td>No</td>\n",
       "      <td>No</td>\n",
       "    </tr>\n",
       "    <tr>\n",
       "      <th>Previous Purchases</th>\n",
       "      <td>-1.478099</td>\n",
       "      <td>-0.301243</td>\n",
       "      <td>0.598705</td>\n",
       "      <td>1.498654</td>\n",
       "    </tr>\n",
       "    <tr>\n",
       "      <th>Payment Method</th>\n",
       "      <td>PayPal</td>\n",
       "      <td>PayPal</td>\n",
       "      <td>Bank Transfer</td>\n",
       "      <td>Credit Card</td>\n",
       "    </tr>\n",
       "    <tr>\n",
       "      <th>Frequency of Purchases</th>\n",
       "      <td>Every 3 Months</td>\n",
       "      <td>Annually</td>\n",
       "      <td>Bi-Weekly</td>\n",
       "      <td>Quarterly</td>\n",
       "    </tr>\n",
       "    <tr>\n",
       "      <th>prod_cluster</th>\n",
       "      <td>0.0</td>\n",
       "      <td>1.0</td>\n",
       "      <td>2.0</td>\n",
       "      <td>3.0</td>\n",
       "    </tr>\n",
       "  </tbody>\n",
       "</table>\n",
       "</div>"
      ],
      "text/plain": [
       "prod_cluster                         0             1              2  \\\n",
       "0                                                                     \n",
       "Age                          -1.056744      1.639624      -1.122509   \n",
       "Gender                            Male          Male           Male   \n",
       "Item Purchased                 T-shirt    Sunglasses        Sweater   \n",
       "Category                      Clothing      Clothing       Clothing   \n",
       "Purchase Amount (USD)         1.445618     -1.467943      -1.003463   \n",
       "Location                  North Dakota     Louisiana       Nebraska   \n",
       "Size                                 M             M              M   \n",
       "Color                            Green          Teal         Yellow   \n",
       "Season                            Fall        Spring         Winter   \n",
       "Review Rating                      3.4           2.6            4.6   \n",
       "Subscription Status                 No            No             No   \n",
       "Shipping Type            Free Shipping  Next Day Air       Standard   \n",
       "Discount Applied                    No           Yes             No   \n",
       "Promo Code Used                     No           Yes             No   \n",
       "Previous Purchases           -1.478099     -0.301243       0.598705   \n",
       "Payment Method                  PayPal        PayPal  Bank Transfer   \n",
       "Frequency of Purchases  Every 3 Months      Annually      Bi-Weekly   \n",
       "prod_cluster                       0.0           1.0            2.0   \n",
       "\n",
       "prod_cluster                         3  \n",
       "0                                       \n",
       "Age                           0.324323  \n",
       "Gender                            Male  \n",
       "Item Purchased                  Blouse  \n",
       "Category                      Clothing  \n",
       "Purchase Amount (USD)         1.192265  \n",
       "Location                  Pennsylvania  \n",
       "Size                                 M  \n",
       "Color                             Gray  \n",
       "Season                          Summer  \n",
       "Review Rating                      4.0  \n",
       "Subscription Status                 No  \n",
       "Shipping Type           2-Day Shipping  \n",
       "Discount Applied                    No  \n",
       "Promo Code Used                     No  \n",
       "Previous Purchases            1.498654  \n",
       "Payment Method             Credit Card  \n",
       "Frequency of Purchases       Quarterly  \n",
       "prod_cluster                       3.0  "
      ]
     },
     "execution_count": 32,
     "metadata": {},
     "output_type": "execute_result"
    }
   ],
   "source": [
    "cluster_composition.T"
   ]
  },
  {
   "cell_type": "markdown",
   "id": "7d97f8f1-f8c0-4536-bbbc-96bd1328a09e",
   "metadata": {},
   "source": [
    "1. Gender is not useful. I think it's because most of customers are male in this shopping mall.\n",
    "2. Cluster 0, 1, 3, 4 are interesting. The mode for `Gender` is male, but mode for `Item Purchased` are items for women.\n",
    "3. Cluster 0 and 4 are top spender. But they are distinctively different in many interesting ways.\n",
    "4. We need to watch for cluster 3. Their `Review Rating` is pretty low."
   ]
  },
  {
   "cell_type": "code",
   "execution_count": 34,
   "id": "52df1c9c-3827-4743-850b-573830428c91",
   "metadata": {},
   "outputs": [],
   "source": [
    "import seaborn as sns"
   ]
  },
  {
   "cell_type": "code",
   "execution_count": 35,
   "id": "d47bf59d-418f-42f8-be8a-1a59151276d8",
   "metadata": {},
   "outputs": [
    {
     "data": {
      "text/plain": [
       "<Axes: xlabel='prod_cluster', ylabel='count'>"
      ]
     },
     "execution_count": 35,
     "metadata": {},
     "output_type": "execute_result"
    },
    {
     "data": {
      "image/png": "[encoded data removed]",
      "text/plain": [
       "<Figure size 640x480 with 1 Axes>"
      ]
     },
     "metadata": {},
     "output_type": "display_data"
    }
   ],
   "source": [
    "sns.barplot(cluster_counts, palette='viridis')"
   ]
  },
  {
   "cell_type": "code",
   "execution_count": 19,
   "id": "d1e97771-853c-4f18-9a78-78bc0793a1ae",
   "metadata": {},
   "outputs": [
    {
     "data": {
      "text/plain": [
       "<Axes: xlabel='prod_cluster'>"
      ]
     },
     "execution_count": 19,
     "metadata": {},
     "output_type": "execute_result"
    },
    {
     "data": {
      "image/png": "[encoded data removed]",
      "text/plain": [
       "<Figure size 640x480 with 1 Axes>"
      ]
     },
     "metadata": {},
     "output_type": "display_data"
    }
   ],
   "source": [
    "cluster_counts.plot(kind='bar')"
   ]
  },
  {
   "cell_type": "markdown",
   "id": "a3bf8cd7-5613-441c-8e94-47e43f0a48ff",
   "metadata": {},
   "source": [
    "They are evenly distributed."
   ]
  },
  {
   "cell_type": "code",
   "execution_count": 37,
   "id": "150898ed-07ca-484c-a76e-f56c2bd1fcd5",
   "metadata": {},
   "outputs": [
    {
     "data": {
      "text/plain": [
       "prod_cluster\n",
       "2    992\n",
       "3    974\n",
       "0    971\n",
       "1    963\n",
       "Name: count, dtype: int64"
      ]
     },
     "execution_count": 37,
     "metadata": {},
     "output_type": "execute_result"
    }
   ],
   "source": [
    "cluster_counts"
   ]
  },
  {
   "cell_type": "code",
   "execution_count": null,
   "id": "5e9e2f95-73d6-4b32-8f71-bb3f9495306f",
   "metadata": {},
   "outputs": [],
   "source": [
    "df_full[df_full[\"prod_cluster\"] == 0]"
   ]
  },
  {
   "cell_type": "code",
   "execution_count": null,
   "id": "dcee6f0a-d721-4a70-9c7c-0d9faca86564",
   "metadata": {},
   "outputs": [],
   "source": []
  }
 ],
 "metadata": {
  "kernelspec": {
   "display_name": "Python [conda env:base] *",
   "language": "python",
   "name": "conda-base-py"
  },
  "language_info": {
   "codemirror_mode": {
    "name": "ipython",
    "version": 3
   },
   "file_extension": ".py",
   "mimetype": "text/x-python",
   "name": "python",
   "nbconvert_exporter": "python",
   "pygments_lexer": "ipython3",
   "version": "3.12.7"
  }
 },
 "nbformat": 4,
 "nbformat_minor": 5
}
