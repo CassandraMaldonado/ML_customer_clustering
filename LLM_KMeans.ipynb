{
 "cells": [
  {
   "cell_type": "code",
   "execution_count": 24,
   "metadata": {},
   "outputs": [],
   "source": [
    "import numpy as np\n",
    "import pandas as pd\n",
    "import matplotlib.pyplot as plt\n",
    "import seaborn as sns\n",
    "from sklearn.preprocessing import StandardScaler\n",
    "from sklearn.preprocessing import MinMaxScaler\n",
    "from sklearn.decomposition import PCA\n",
    "from sklearn.cluster import KMeans\n",
    "from sklearn.metrics import silhouette_score"
   ]
  },
  {
   "cell_type": "code",
   "execution_count": 2,
   "metadata": {},
   "outputs": [
    {
     "data": {
      "text/html": [
       "<div>\n",
       "<style scoped>\n",
       "    .dataframe tbody tr th:only-of-type {\n",
       "        vertical-align: middle;\n",
       "    }\n",
       "\n",
       "    .dataframe tbody tr th {\n",
       "        vertical-align: top;\n",
       "    }\n",
       "\n",
       "    .dataframe thead th {\n",
       "        text-align: right;\n",
       "    }\n",
       "</style>\n",
       "<table border=\"1\" class=\"dataframe\">\n",
       "  <thead>\n",
       "    <tr style=\"text-align: right;\">\n",
       "      <th></th>\n",
       "      <th>Customer ID</th>\n",
       "      <th>Age</th>\n",
       "      <th>Gender</th>\n",
       "      <th>Item Purchased</th>\n",
       "      <th>Category</th>\n",
       "      <th>Purchase Amount (USD)</th>\n",
       "      <th>Location</th>\n",
       "      <th>Size</th>\n",
       "      <th>Color</th>\n",
       "      <th>Season</th>\n",
       "      <th>Review Rating</th>\n",
       "      <th>Subscription Status</th>\n",
       "      <th>Shipping Type</th>\n",
       "      <th>Discount Applied</th>\n",
       "      <th>Promo Code Used</th>\n",
       "      <th>Previous Purchases</th>\n",
       "      <th>Payment Method</th>\n",
       "      <th>Frequency of Purchases</th>\n",
       "    </tr>\n",
       "  </thead>\n",
       "  <tbody>\n",
       "    <tr>\n",
       "      <th>0</th>\n",
       "      <td>1</td>\n",
       "      <td>55</td>\n",
       "      <td>Male</td>\n",
       "      <td>Blouse</td>\n",
       "      <td>Clothing</td>\n",
       "      <td>53</td>\n",
       "      <td>Kentucky</td>\n",
       "      <td>L</td>\n",
       "      <td>Gray</td>\n",
       "      <td>Winter</td>\n",
       "      <td>3.1</td>\n",
       "      <td>Yes</td>\n",
       "      <td>Express</td>\n",
       "      <td>Yes</td>\n",
       "      <td>Yes</td>\n",
       "      <td>14</td>\n",
       "      <td>Venmo</td>\n",
       "      <td>Fortnightly</td>\n",
       "    </tr>\n",
       "    <tr>\n",
       "      <th>1</th>\n",
       "      <td>2</td>\n",
       "      <td>19</td>\n",
       "      <td>Male</td>\n",
       "      <td>Sweater</td>\n",
       "      <td>Clothing</td>\n",
       "      <td>64</td>\n",
       "      <td>Maine</td>\n",
       "      <td>L</td>\n",
       "      <td>Maroon</td>\n",
       "      <td>Winter</td>\n",
       "      <td>3.1</td>\n",
       "      <td>Yes</td>\n",
       "      <td>Express</td>\n",
       "      <td>Yes</td>\n",
       "      <td>Yes</td>\n",
       "      <td>2</td>\n",
       "      <td>Cash</td>\n",
       "      <td>Fortnightly</td>\n",
       "    </tr>\n",
       "    <tr>\n",
       "      <th>2</th>\n",
       "      <td>3</td>\n",
       "      <td>50</td>\n",
       "      <td>Male</td>\n",
       "      <td>Jeans</td>\n",
       "      <td>Clothing</td>\n",
       "      <td>73</td>\n",
       "      <td>Massachusetts</td>\n",
       "      <td>S</td>\n",
       "      <td>Maroon</td>\n",
       "      <td>Spring</td>\n",
       "      <td>3.1</td>\n",
       "      <td>Yes</td>\n",
       "      <td>Free Shipping</td>\n",
       "      <td>Yes</td>\n",
       "      <td>Yes</td>\n",
       "      <td>23</td>\n",
       "      <td>Credit Card</td>\n",
       "      <td>Weekly</td>\n",
       "    </tr>\n",
       "    <tr>\n",
       "      <th>3</th>\n",
       "      <td>4</td>\n",
       "      <td>21</td>\n",
       "      <td>Male</td>\n",
       "      <td>Sandals</td>\n",
       "      <td>Footwear</td>\n",
       "      <td>90</td>\n",
       "      <td>Rhode Island</td>\n",
       "      <td>M</td>\n",
       "      <td>Maroon</td>\n",
       "      <td>Spring</td>\n",
       "      <td>3.5</td>\n",
       "      <td>Yes</td>\n",
       "      <td>Next Day Air</td>\n",
       "      <td>Yes</td>\n",
       "      <td>Yes</td>\n",
       "      <td>49</td>\n",
       "      <td>PayPal</td>\n",
       "      <td>Weekly</td>\n",
       "    </tr>\n",
       "    <tr>\n",
       "      <th>4</th>\n",
       "      <td>5</td>\n",
       "      <td>45</td>\n",
       "      <td>Male</td>\n",
       "      <td>Blouse</td>\n",
       "      <td>Clothing</td>\n",
       "      <td>49</td>\n",
       "      <td>Oregon</td>\n",
       "      <td>M</td>\n",
       "      <td>Turquoise</td>\n",
       "      <td>Spring</td>\n",
       "      <td>2.7</td>\n",
       "      <td>Yes</td>\n",
       "      <td>Free Shipping</td>\n",
       "      <td>Yes</td>\n",
       "      <td>Yes</td>\n",
       "      <td>31</td>\n",
       "      <td>PayPal</td>\n",
       "      <td>Annually</td>\n",
       "    </tr>\n",
       "  </tbody>\n",
       "</table>\n",
       "</div>"
      ],
      "text/plain": [
       "   Customer ID  Age Gender Item Purchased  Category  Purchase Amount (USD)  \\\n",
       "0            1   55   Male         Blouse  Clothing                     53   \n",
       "1            2   19   Male        Sweater  Clothing                     64   \n",
       "2            3   50   Male          Jeans  Clothing                     73   \n",
       "3            4   21   Male        Sandals  Footwear                     90   \n",
       "4            5   45   Male         Blouse  Clothing                     49   \n",
       "\n",
       "        Location Size      Color  Season  Review Rating Subscription Status  \\\n",
       "0       Kentucky    L       Gray  Winter            3.1                 Yes   \n",
       "1          Maine    L     Maroon  Winter            3.1                 Yes   \n",
       "2  Massachusetts    S     Maroon  Spring            3.1                 Yes   \n",
       "3   Rhode Island    M     Maroon  Spring            3.5                 Yes   \n",
       "4         Oregon    M  Turquoise  Spring            2.7                 Yes   \n",
       "\n",
       "   Shipping Type Discount Applied Promo Code Used  Previous Purchases  \\\n",
       "0        Express              Yes             Yes                  14   \n",
       "1        Express              Yes             Yes                   2   \n",
       "2  Free Shipping              Yes             Yes                  23   \n",
       "3   Next Day Air              Yes             Yes                  49   \n",
       "4  Free Shipping              Yes             Yes                  31   \n",
       "\n",
       "  Payment Method Frequency of Purchases  \n",
       "0          Venmo            Fortnightly  \n",
       "1           Cash            Fortnightly  \n",
       "2    Credit Card                 Weekly  \n",
       "3         PayPal                 Weekly  \n",
       "4         PayPal               Annually  "
      ]
     },
     "execution_count": 2,
     "metadata": {},
     "output_type": "execute_result"
    }
   ],
   "source": [
    "df = pd.read_csv('shopping_behavior_updated.csv')\n",
    "df.head()"
   ]
  },
  {
   "cell_type": "code",
   "execution_count": 3,
   "metadata": {},
   "outputs": [
    {
     "name": "stdout",
     "output_type": "stream",
     "text": [
      "   Customer ID  Age Gender Item Purchased  Category  Purchase Amount (USD)  \\\n",
      "0            1   55   Male         Blouse  Clothing                     53   \n",
      "1            2   19   Male        Sweater  Clothing                     64   \n",
      "2            3   50   Male          Jeans  Clothing                     73   \n",
      "3            4   21   Male        Sandals  Footwear                     90   \n",
      "4            5   45   Male         Blouse  Clothing                     49   \n",
      "\n",
      "        Location Size      Color  Season  Review Rating Subscription Status  \\\n",
      "0       Kentucky    L       Gray  Winter            3.1                 Yes   \n",
      "1          Maine    L     Maroon  Winter            3.1                 Yes   \n",
      "2  Massachusetts    S     Maroon  Spring            3.1                 Yes   \n",
      "3   Rhode Island    M     Maroon  Spring            3.5                 Yes   \n",
      "4         Oregon    M  Turquoise  Spring            2.7                 Yes   \n",
      "\n",
      "   Shipping Type Discount Applied Promo Code Used  Previous Purchases  \\\n",
      "0        Express              Yes             Yes                  14   \n",
      "1        Express              Yes             Yes                   2   \n",
      "2  Free Shipping              Yes             Yes                  23   \n",
      "3   Next Day Air              Yes             Yes                  49   \n",
      "4  Free Shipping              Yes             Yes                  31   \n",
      "\n",
      "  Payment Method  Frequency of Purchases (Numeric)  \n",
      "0          Venmo                                26  \n",
      "1           Cash                                26  \n",
      "2    Credit Card                                52  \n",
      "3         PayPal                                52  \n",
      "4         PayPal                                 1  \n"
     ]
    }
   ],
   "source": [
    "# Mapping for categorical frequencies to numerical values\n",
    "frequency_mapping = {\n",
    "    \"Weekly\": 52,\n",
    "    \"Fortnightly\": 26,\n",
    "    \"Bi-Weekly\": 24,\n",
    "    \"Monthly\": 12,\n",
    "    \"Every 3 Months\": 4,\n",
    "    \"Quarterly\": 4,\n",
    "    \"Annually\": 1\n",
    "}\n",
    "\n",
    "# Apply the mapping\n",
    "df[\"Frequency of Purchases (Numeric)\"] = df[\"Frequency of Purchases\"].map(frequency_mapping)\n",
    "\n",
    "# Drop the original categorical column\n",
    "df.drop(columns=[\"Frequency of Purchases\"], inplace=True)\n",
    "\n",
    "# Display updated dataset\n",
    "print(df.head())"
   ]
  },
  {
   "cell_type": "code",
   "execution_count": 4,
   "metadata": {},
   "outputs": [
    {
     "name": "stdout",
     "output_type": "stream",
     "text": [
      "[26 52  1  4 24 12]\n"
     ]
    }
   ],
   "source": [
    "print(df[\"Frequency of Purchases (Numeric)\"].unique())"
   ]
  },
  {
   "cell_type": "code",
   "execution_count": 6,
   "metadata": {},
   "outputs": [],
   "source": [
    "# Create the required columns\n",
    "df['Recency'] = df['Previous Purchases']\n",
    "df['Frequency'] = df['Frequency of Purchases (Numeric)']\n",
    "df['Monetary'] = df['Purchase Amount (USD)']\n",
    "\n",
    "scaler = StandardScaler()\n",
    "df_scaled = scaler.fit_transform(df[['Recency', 'Frequency', 'Monetary']])"
   ]
  },
  {
   "cell_type": "code",
   "execution_count": 8,
   "metadata": {},
   "outputs": [],
   "source": [
    "# Monetary Value: Total Spend per Customer\n",
    "df[\"Monetary\"] = df.groupby(\"Customer ID\")[\"Purchase Amount (USD)\"].transform(\"sum\")\n",
    "\n",
    "# Loyalty Score: Higher frequency & subscription status = More Loyal\n",
    "df[\"Loyalty_Score\"] = df[\"Frequency of Purchases (Numeric)\"] + df[\"Previous Purchases\"]\n",
    "\n",
    "# Loyalty score for subscribers with subscription status\n",
    "df[\"Loyalty_Score\"] += df[\"Subscription Status\"].apply(lambda x: 10 if x.lower() == \"subscribed\" else 0)"
   ]
  },
  {
   "cell_type": "code",
   "execution_count": 10,
   "metadata": {},
   "outputs": [
    {
     "name": "stdout",
     "output_type": "stream",
     "text": [
      "   Customer ID  Frequency of Purchases (Numeric)  Monetary  Loyalty_Score\n",
      "0            1                          0.490196    0.4125           0.38\n",
      "1            2                          0.490196    0.5500           0.26\n",
      "2            3                          1.000000    0.6625           0.73\n",
      "3            4                          1.000000    0.8750           0.99\n",
      "4            5                          0.000000    0.3625           0.30\n"
     ]
    }
   ],
   "source": [
    "scaler = MinMaxScaler()\n",
    "df[[\"Frequency of Purchases (Numeric)\", \"Monetary\", \"Loyalty_Score\"]] = scaler.fit_transform(df[[\"Frequency of Purchases (Numeric)\", \"Monetary\", \"Loyalty_Score\"]])\n",
    "\n",
    "# Display Updated Data\n",
    "print(df[[\"Customer ID\", \"Frequency of Purchases (Numeric)\", \"Monetary\", \"Loyalty_Score\"]].head())"
   ]
  },
  {
   "cell_type": "code",
   "execution_count": 11,
   "metadata": {},
   "outputs": [
    {
     "name": "stdout",
     "output_type": "stream",
     "text": [
      "   Customer ID  Age Gender Item Purchased  Category  Purchase Amount (USD)  \\\n",
      "0            1   55   Male         Blouse  Clothing                     53   \n",
      "1            2   19   Male        Sweater  Clothing                     64   \n",
      "2            3   50   Male          Jeans  Clothing                     73   \n",
      "3            4   21   Male        Sandals  Footwear                     90   \n",
      "4            5   45   Male         Blouse  Clothing                     49   \n",
      "\n",
      "        Location Size      Color  Season  ...  Promo Code Used  \\\n",
      "0       Kentucky    L       Gray  Winter  ...              Yes   \n",
      "1          Maine    L     Maroon  Winter  ...              Yes   \n",
      "2  Massachusetts    S     Maroon  Spring  ...              Yes   \n",
      "3   Rhode Island    M     Maroon  Spring  ...              Yes   \n",
      "4         Oregon    M  Turquoise  Spring  ...              Yes   \n",
      "\n",
      "  Previous Purchases Payment Method Frequency of Purchases (Numeric) Recency  \\\n",
      "0                 14          Venmo                         0.490196      14   \n",
      "1                  2           Cash                         0.490196       2   \n",
      "2                 23    Credit Card                         1.000000      23   \n",
      "3                 49         PayPal                         1.000000      49   \n",
      "4                 31         PayPal                         0.000000      31   \n",
      "\n",
      "   Frequency Monetary  Loyalty_Score  Subscription_Status_Binary  \\\n",
      "0         26   0.4125      14.490196                           0   \n",
      "1         26   0.5500       2.490196                           0   \n",
      "2         52   0.6625      24.000000                           0   \n",
      "3         52   0.8750      50.000000                           0   \n",
      "4          1   0.3625      31.000000                           0   \n",
      "\n",
      "   Engagement_Score  \n",
      "0               3.1  \n",
      "1               3.1  \n",
      "2               3.1  \n",
      "3               3.5  \n",
      "4               2.7  \n",
      "\n",
      "[5 rows x 24 columns]\n"
     ]
    }
   ],
   "source": [
    "# Ensure categorical \"Subscription Status\" is standardized\n",
    "df[\"Subscription Status\"] = df[\"Subscription Status\"].str.lower().str.strip()\n",
    "\n",
    "# Subscription Status: 1 for subscribed, 0 for non-subscribed\n",
    "df[\"Subscription_Status_Binary\"] = df[\"Subscription Status\"].apply(lambda x: 1 if x == \"subscribed\" else 0)\n",
    "\n",
    "# Engagement \n",
    "if \"Review Rating\" in df.columns:\n",
    "    df[\"Engagement_Score\"] = df[\"Review Rating\"]\n",
    "else:\n",
    "    df[\"Engagement_Score\"] = 0  # Default if missing\n",
    "\n",
    "# Loyalty Score \n",
    "df[\"Loyalty_Score\"] = df[\"Frequency of Purchases (Numeric)\"] + df[\"Previous Purchases\"] + (df[\"Subscription_Status_Binary\"] * 10)\n",
    "\n",
    "print(df.head())"
   ]
  },
  {
   "cell_type": "code",
   "execution_count": 13,
   "metadata": {},
   "outputs": [
    {
     "name": "stderr",
     "output_type": "stream",
     "text": [
      "huggingface/tokenizers: The current process just got forked, after parallelism has already been used. Disabling parallelism to avoid deadlocks...\n",
      "To disable this warning, you can either:\n",
      "\t- Avoid using `tokenizers` before the fork if possible\n",
      "\t- Explicitly set the environment variable TOKENIZERS_PARALLELISM=(true | false)\n"
     ]
    },
    {
     "name": "stdout",
     "output_type": "stream",
     "text": [
      "Requirement already satisfied: sentence-transformers in /opt/anaconda3/lib/python3.12/site-packages (3.4.1)\n",
      "Requirement already satisfied: transformers<5.0.0,>=4.41.0 in /opt/anaconda3/lib/python3.12/site-packages (from sentence-transformers) (4.49.0)\n",
      "Requirement already satisfied: tqdm in /opt/anaconda3/lib/python3.12/site-packages (from sentence-transformers) (4.66.5)\n",
      "Requirement already satisfied: torch>=1.11.0 in /opt/anaconda3/lib/python3.12/site-packages (from sentence-transformers) (2.5.1)\n",
      "Requirement already satisfied: scikit-learn in /opt/anaconda3/lib/python3.12/site-packages (from sentence-transformers) (1.5.1)\n",
      "Requirement already satisfied: scipy in /opt/anaconda3/lib/python3.12/site-packages (from sentence-transformers) (1.13.1)\n",
      "Requirement already satisfied: huggingface-hub>=0.20.0 in /opt/anaconda3/lib/python3.12/site-packages (from sentence-transformers) (0.29.1)\n",
      "Requirement already satisfied: Pillow in /opt/anaconda3/lib/python3.12/site-packages (from sentence-transformers) (10.4.0)\n",
      "Requirement already satisfied: filelock in /opt/anaconda3/lib/python3.12/site-packages (from huggingface-hub>=0.20.0->sentence-transformers) (3.13.1)\n",
      "Requirement already satisfied: fsspec>=2023.5.0 in /opt/anaconda3/lib/python3.12/site-packages (from huggingface-hub>=0.20.0->sentence-transformers) (2024.6.1)\n",
      "Requirement already satisfied: packaging>=20.9 in /opt/anaconda3/lib/python3.12/site-packages (from huggingface-hub>=0.20.0->sentence-transformers) (24.1)\n",
      "Requirement already satisfied: pyyaml>=5.1 in /opt/anaconda3/lib/python3.12/site-packages (from huggingface-hub>=0.20.0->sentence-transformers) (6.0.1)\n",
      "Requirement already satisfied: requests in /opt/anaconda3/lib/python3.12/site-packages (from huggingface-hub>=0.20.0->sentence-transformers) (2.32.3)\n",
      "Requirement already satisfied: typing-extensions>=3.7.4.3 in /opt/anaconda3/lib/python3.12/site-packages (from huggingface-hub>=0.20.0->sentence-transformers) (4.11.0)\n",
      "Requirement already satisfied: networkx in /opt/anaconda3/lib/python3.12/site-packages (from torch>=1.11.0->sentence-transformers) (3.3)\n",
      "Requirement already satisfied: jinja2 in /opt/anaconda3/lib/python3.12/site-packages (from torch>=1.11.0->sentence-transformers) (3.1.4)\n",
      "Requirement already satisfied: setuptools in /opt/anaconda3/lib/python3.12/site-packages (from torch>=1.11.0->sentence-transformers) (75.1.0)\n",
      "Requirement already satisfied: sympy==1.13.1 in /opt/anaconda3/lib/python3.12/site-packages (from torch>=1.11.0->sentence-transformers) (1.13.1)\n",
      "Requirement already satisfied: mpmath<1.4,>=1.1.0 in /opt/anaconda3/lib/python3.12/site-packages (from sympy==1.13.1->torch>=1.11.0->sentence-transformers) (1.3.0)\n",
      "Requirement already satisfied: numpy>=1.17 in /opt/anaconda3/lib/python3.12/site-packages (from transformers<5.0.0,>=4.41.0->sentence-transformers) (1.26.4)\n",
      "Requirement already satisfied: regex!=2019.12.17 in /opt/anaconda3/lib/python3.12/site-packages (from transformers<5.0.0,>=4.41.0->sentence-transformers) (2024.9.11)\n",
      "Requirement already satisfied: tokenizers<0.22,>=0.21 in /opt/anaconda3/lib/python3.12/site-packages (from transformers<5.0.0,>=4.41.0->sentence-transformers) (0.21.0)\n",
      "Requirement already satisfied: safetensors>=0.4.1 in /opt/anaconda3/lib/python3.12/site-packages (from transformers<5.0.0,>=4.41.0->sentence-transformers) (0.5.3)\n",
      "Requirement already satisfied: joblib>=1.2.0 in /opt/anaconda3/lib/python3.12/site-packages (from scikit-learn->sentence-transformers) (1.4.2)\n",
      "Requirement already satisfied: threadpoolctl>=3.1.0 in /opt/anaconda3/lib/python3.12/site-packages (from scikit-learn->sentence-transformers) (3.5.0)\n",
      "Requirement already satisfied: MarkupSafe>=2.0 in /opt/anaconda3/lib/python3.12/site-packages (from jinja2->torch>=1.11.0->sentence-transformers) (2.1.3)\n",
      "Requirement already satisfied: charset-normalizer<4,>=2 in /opt/anaconda3/lib/python3.12/site-packages (from requests->huggingface-hub>=0.20.0->sentence-transformers) (3.3.2)\n",
      "Requirement already satisfied: idna<4,>=2.5 in /opt/anaconda3/lib/python3.12/site-packages (from requests->huggingface-hub>=0.20.0->sentence-transformers) (3.7)\n",
      "Requirement already satisfied: urllib3<3,>=1.21.1 in /opt/anaconda3/lib/python3.12/site-packages (from requests->huggingface-hub>=0.20.0->sentence-transformers) (2.2.3)\n",
      "Requirement already satisfied: certifi>=2017.4.17 in /opt/anaconda3/lib/python3.12/site-packages (from requests->huggingface-hub>=0.20.0->sentence-transformers) (2024.12.14)\n",
      "Note: you may need to restart the kernel to use updated packages.\n"
     ]
    },
    {
     "name": "stderr",
     "output_type": "stream",
     "text": [
      "huggingface/tokenizers: The current process just got forked, after parallelism has already been used. Disabling parallelism to avoid deadlocks...\n",
      "To disable this warning, you can either:\n",
      "\t- Avoid using `tokenizers` before the fork if possible\n",
      "\t- Explicitly set the environment variable TOKENIZERS_PARALLELISM=(true | false)\n"
     ]
    },
    {
     "name": "stdout",
     "output_type": "stream",
     "text": [
      "Requirement already satisfied: tf-keras in /opt/anaconda3/lib/python3.12/site-packages (2.18.0)\n",
      "Requirement already satisfied: tensorflow<2.19,>=2.18 in /opt/anaconda3/lib/python3.12/site-packages (from tf-keras) (2.18.0)\n",
      "Requirement already satisfied: absl-py>=1.0.0 in /opt/anaconda3/lib/python3.12/site-packages (from tensorflow<2.19,>=2.18->tf-keras) (2.1.0)\n",
      "Requirement already satisfied: astunparse>=1.6.0 in /opt/anaconda3/lib/python3.12/site-packages (from tensorflow<2.19,>=2.18->tf-keras) (1.6.3)\n",
      "Requirement already satisfied: flatbuffers>=24.3.25 in /opt/anaconda3/lib/python3.12/site-packages (from tensorflow<2.19,>=2.18->tf-keras) (25.2.10)\n",
      "Requirement already satisfied: gast!=0.5.0,!=0.5.1,!=0.5.2,>=0.2.1 in /opt/anaconda3/lib/python3.12/site-packages (from tensorflow<2.19,>=2.18->tf-keras) (0.6.0)\n",
      "Requirement already satisfied: google-pasta>=0.1.1 in /opt/anaconda3/lib/python3.12/site-packages (from tensorflow<2.19,>=2.18->tf-keras) (0.2.0)\n",
      "Requirement already satisfied: libclang>=13.0.0 in /opt/anaconda3/lib/python3.12/site-packages (from tensorflow<2.19,>=2.18->tf-keras) (18.1.1)\n",
      "Requirement already satisfied: opt-einsum>=2.3.2 in /opt/anaconda3/lib/python3.12/site-packages (from tensorflow<2.19,>=2.18->tf-keras) (3.4.0)\n",
      "Requirement already satisfied: packaging in /opt/anaconda3/lib/python3.12/site-packages (from tensorflow<2.19,>=2.18->tf-keras) (24.1)\n",
      "Requirement already satisfied: protobuf!=4.21.0,!=4.21.1,!=4.21.2,!=4.21.3,!=4.21.4,!=4.21.5,<6.0.0dev,>=3.20.3 in /opt/anaconda3/lib/python3.12/site-packages (from tensorflow<2.19,>=2.18->tf-keras) (5.29.3)\n",
      "Requirement already satisfied: requests<3,>=2.21.0 in /opt/anaconda3/lib/python3.12/site-packages (from tensorflow<2.19,>=2.18->tf-keras) (2.32.3)\n",
      "Requirement already satisfied: setuptools in /opt/anaconda3/lib/python3.12/site-packages (from tensorflow<2.19,>=2.18->tf-keras) (75.1.0)\n",
      "Requirement already satisfied: six>=1.12.0 in /opt/anaconda3/lib/python3.12/site-packages (from tensorflow<2.19,>=2.18->tf-keras) (1.16.0)\n",
      "Requirement already satisfied: termcolor>=1.1.0 in /opt/anaconda3/lib/python3.12/site-packages (from tensorflow<2.19,>=2.18->tf-keras) (2.5.0)\n",
      "Requirement already satisfied: typing-extensions>=3.6.6 in /opt/anaconda3/lib/python3.12/site-packages (from tensorflow<2.19,>=2.18->tf-keras) (4.11.0)\n",
      "Requirement already satisfied: wrapt>=1.11.0 in /opt/anaconda3/lib/python3.12/site-packages (from tensorflow<2.19,>=2.18->tf-keras) (1.14.1)\n",
      "Requirement already satisfied: grpcio<2.0,>=1.24.3 in /opt/anaconda3/lib/python3.12/site-packages (from tensorflow<2.19,>=2.18->tf-keras) (1.69.0)\n",
      "Requirement already satisfied: tensorboard<2.19,>=2.18 in /opt/anaconda3/lib/python3.12/site-packages (from tensorflow<2.19,>=2.18->tf-keras) (2.18.0)\n",
      "Requirement already satisfied: keras>=3.5.0 in /opt/anaconda3/lib/python3.12/site-packages (from tensorflow<2.19,>=2.18->tf-keras) (3.8.0)\n",
      "Requirement already satisfied: numpy<2.1.0,>=1.26.0 in /opt/anaconda3/lib/python3.12/site-packages (from tensorflow<2.19,>=2.18->tf-keras) (1.26.4)\n",
      "Requirement already satisfied: h5py>=3.11.0 in /opt/anaconda3/lib/python3.12/site-packages (from tensorflow<2.19,>=2.18->tf-keras) (3.11.0)\n",
      "Requirement already satisfied: ml-dtypes<0.5.0,>=0.4.0 in /opt/anaconda3/lib/python3.12/site-packages (from tensorflow<2.19,>=2.18->tf-keras) (0.4.1)\n",
      "Requirement already satisfied: wheel<1.0,>=0.23.0 in /opt/anaconda3/lib/python3.12/site-packages (from astunparse>=1.6.0->tensorflow<2.19,>=2.18->tf-keras) (0.44.0)\n",
      "Requirement already satisfied: rich in /opt/anaconda3/lib/python3.12/site-packages (from keras>=3.5.0->tensorflow<2.19,>=2.18->tf-keras) (13.7.1)\n",
      "Requirement already satisfied: namex in /opt/anaconda3/lib/python3.12/site-packages (from keras>=3.5.0->tensorflow<2.19,>=2.18->tf-keras) (0.0.8)\n",
      "Requirement already satisfied: optree in /opt/anaconda3/lib/python3.12/site-packages (from keras>=3.5.0->tensorflow<2.19,>=2.18->tf-keras) (0.14.0)\n",
      "Requirement already satisfied: charset-normalizer<4,>=2 in /opt/anaconda3/lib/python3.12/site-packages (from requests<3,>=2.21.0->tensorflow<2.19,>=2.18->tf-keras) (3.3.2)\n",
      "Requirement already satisfied: idna<4,>=2.5 in /opt/anaconda3/lib/python3.12/site-packages (from requests<3,>=2.21.0->tensorflow<2.19,>=2.18->tf-keras) (3.7)\n",
      "Requirement already satisfied: urllib3<3,>=1.21.1 in /opt/anaconda3/lib/python3.12/site-packages (from requests<3,>=2.21.0->tensorflow<2.19,>=2.18->tf-keras) (2.2.3)\n",
      "Requirement already satisfied: certifi>=2017.4.17 in /opt/anaconda3/lib/python3.12/site-packages (from requests<3,>=2.21.0->tensorflow<2.19,>=2.18->tf-keras) (2024.12.14)\n",
      "Requirement already satisfied: markdown>=2.6.8 in /opt/anaconda3/lib/python3.12/site-packages (from tensorboard<2.19,>=2.18->tensorflow<2.19,>=2.18->tf-keras) (3.4.1)\n",
      "Requirement already satisfied: tensorboard-data-server<0.8.0,>=0.7.0 in /opt/anaconda3/lib/python3.12/site-packages (from tensorboard<2.19,>=2.18->tensorflow<2.19,>=2.18->tf-keras) (0.7.2)\n",
      "Requirement already satisfied: werkzeug>=1.0.1 in /opt/anaconda3/lib/python3.12/site-packages (from tensorboard<2.19,>=2.18->tensorflow<2.19,>=2.18->tf-keras) (3.0.3)\n",
      "Requirement already satisfied: MarkupSafe>=2.1.1 in /opt/anaconda3/lib/python3.12/site-packages (from werkzeug>=1.0.1->tensorboard<2.19,>=2.18->tensorflow<2.19,>=2.18->tf-keras) (2.1.3)\n",
      "Requirement already satisfied: markdown-it-py>=2.2.0 in /opt/anaconda3/lib/python3.12/site-packages (from rich->keras>=3.5.0->tensorflow<2.19,>=2.18->tf-keras) (2.2.0)\n",
      "Requirement already satisfied: pygments<3.0.0,>=2.13.0 in /opt/anaconda3/lib/python3.12/site-packages (from rich->keras>=3.5.0->tensorflow<2.19,>=2.18->tf-keras) (2.15.1)\n",
      "Requirement already satisfied: mdurl~=0.1 in /opt/anaconda3/lib/python3.12/site-packages (from markdown-it-py>=2.2.0->rich->keras>=3.5.0->tensorflow<2.19,>=2.18->tf-keras) (0.1.0)\n",
      "Note: you may need to restart the kernel to use updated packages.\n"
     ]
    }
   ],
   "source": [
    "%pip install sentence-transformers\n",
    "%pip install tf-keras\n",
    "\n",
    "from sentence_transformers import SentenceTransformer\n",
    "\n",
    "# Pre-trained language model\n",
    "model = SentenceTransformer('all-MiniLM-L6-v2')\n",
    "\n",
    "df['Category_Embedding'] = df['Category'].apply(lambda x: model.encode(str(x)))\n",
    "df['Item_Purchased_Embedding'] = df['Item Purchased'].apply(lambda x: model.encode(str(x)))\n",
    "\n",
    "# Convert embeddings to NumPy arrays\n",
    "category_embeddings = np.vstack(df['Category_Embedding'].values)\n",
    "item_purchased_embeddings = np.vstack(df['Item_Purchased_Embedding'].values)"
   ]
  },
  {
   "cell_type": "code",
   "execution_count": 18,
   "metadata": {},
   "outputs": [],
   "source": [
    "# PCA to reduce dimensionality before clustering\n",
    "pca = PCA(n_components=4)  \n",
    "X_pca = pca.fit_transform(category_embeddings)"
   ]
  },
  {
   "cell_type": "code",
   "execution_count": 22,
   "metadata": {},
   "outputs": [
    {
     "name": "stdout",
     "output_type": "stream",
     "text": [
      "Explained variance: 100.00%\n"
     ]
    }
   ],
   "source": [
    "explained_variance = pca.explained_variance_ratio_.sum()\n",
    "print(f\"Explained variance: {explained_variance * 100:.2f}%\")\n"
   ]
  },
  {
   "cell_type": "code",
   "execution_count": 23,
   "metadata": {},
   "outputs": [
    {
     "name": "stdout",
     "output_type": "stream",
     "text": [
      "(3900, 40)\n"
     ]
    }
   ],
   "source": [
    "# Reduce dimensionality using PCA\n",
    "pca = PCA(n_components=20)  \n",
    "category_embeddings_pca = pca.fit_transform(category_embeddings)\n",
    "item_purchased_embeddings_pca = pca.fit_transform(item_purchased_embeddings)\n",
    "\n",
    "# Concatenate PCA-reduced embeddings\n",
    "X_embeddings = np.concatenate([category_embeddings_pca, item_purchased_embeddings_pca], axis=1)\n",
    "\n",
    "# Display shape of concatenated embeddings\n",
    "print(X_embeddings.shape)"
   ]
  },
  {
   "cell_type": "code",
   "execution_count": null,
   "metadata": {},
   "outputs": [
    {
     "name": "stdout",
     "output_type": "stream",
     "text": [
      "[[ 6.18267238e-01  2.71028653e-02  1.15340492e-02  1.40666962e-05\n",
      "  -1.37369938e-08  2.15950955e-08 -3.10828980e-08  3.72529563e-09\n",
      "   5.37838751e-08  6.44648956e-09 -8.87670382e-10 -1.38534286e-08\n",
      "  -7.68341035e-09  1.48038506e-08 -3.70200794e-08 -2.50292835e-08\n",
      "   2.82889250e-08 -2.71247682e-08 -3.60887427e-08 -1.80443784e-08\n",
      "   1.10803135e-02  3.74437928e-01 -8.92258584e-02 -2.45943680e-01\n",
      "   1.14700329e-02  1.23984911e-01  1.04269199e-01 -1.07184738e-01\n",
      "  -1.56841427e-02 -8.17748830e-02 -6.70807064e-02  9.91205405e-03\n",
      "   7.93806650e-03 -4.13148738e-02 -2.53954809e-02  3.40703875e-02\n",
      "  -2.11054888e-02  3.77307609e-02 -1.02689162e-01 -1.85790714e-02]\n",
      " [-3.57413977e-01  6.01985157e-01  1.90408781e-01  2.80141758e-05\n",
      "  -1.58092064e-07 -1.49768240e-07  9.74395675e-08 -8.33534060e-08\n",
      "   6.21657890e-08  1.25655845e-07 -1.51761881e-07  1.16531702e-07\n",
      "   3.28291172e-08  6.69578455e-08  5.98375038e-08  3.45753541e-08\n",
      "  -2.38651392e-08 -4.66825405e-08 -8.63801830e-08 -8.23056041e-08\n",
      "   4.45379347e-01 -5.19109480e-02 -7.28367046e-02 -5.03343809e-03\n",
      "   6.81452230e-02  2.10990626e-02  2.14095879e-02  1.93988353e-01\n",
      "  -7.04252869e-02 -2.09092069e-02  4.72610332e-02  3.30308266e-02\n",
      "   4.57422808e-02 -2.37406008e-02  6.14409707e-02 -1.76570509e-02\n",
      "   3.32219787e-02  5.09602064e-03  9.37256590e-03  2.60915002e-03]\n",
      " [-2.68103212e-01 -1.91265926e-01 -6.22805655e-02  4.92869458e-06\n",
      "  -3.31524568e-08 -8.00125974e-08 -1.08764979e-07  7.35347072e-08\n",
      "   2.68609064e-08  8.09768075e-09  7.60000773e-09 -1.22713892e-08\n",
      "  -3.54736218e-09 -5.42685825e-08 -3.69712367e-08  4.00575288e-08\n",
      "  -2.05140367e-08 -4.24209254e-08  6.56800836e-09  2.63581850e-08\n",
      "  -9.13566574e-02 -1.26785755e-01  8.97908732e-02 -1.93107482e-02\n",
      "  -1.97906084e-02 -3.56561504e-02 -2.91689243e-02 -1.80453211e-02\n",
      "   3.46743092e-02 -3.78569216e-02 -1.26291923e-02 -5.89375198e-03\n",
      "  -1.26862898e-02  3.61082563e-03 -3.77396122e-03  7.36935763e-03\n",
      "  -1.83577389e-02  1.03963232e-02  8.76095425e-03 -3.36465822e-03]\n",
      " [ 6.18267357e-01  2.71028765e-02  1.15340482e-02  1.40666962e-05\n",
      "  -1.37370293e-08  2.15951168e-08 -3.10829158e-08  3.72529563e-09\n",
      "   5.37838822e-08  6.44648424e-09 -8.87654394e-10 -1.38534197e-08\n",
      "  -7.68341035e-09  1.48038524e-08 -3.70200617e-08 -2.50292835e-08\n",
      "   2.82889641e-08 -2.71247682e-08 -3.60887569e-08 -1.80443713e-08\n",
      "  -1.03640765e-01  1.60628125e-01 -1.27521843e-01  1.86624780e-01\n",
      "  -6.25846488e-03  8.44721962e-03  2.27958825e-03 -4.01419625e-02\n",
      "  -2.79114917e-02  1.56966522e-01  3.35417427e-02 -1.48769645e-02\n",
      "  -5.86336059e-03  3.08364611e-02 -2.23279521e-02 -2.42137220e-02\n",
      "   3.37532237e-02 -5.09087034e-02  2.62450539e-02  1.67549793e-02]]\n"
     ]
    }
   ],
   "source": [
    "# Apply K-Means\n",
    "kmeans = KMeans(n_clusters=4, random_state=0)\n",
    "kmeans.fit(X_embeddings)\n",
    "df['Cluster'] = kmeans.labels_\n",
    "\n",
    "# Cluster centers\n",
    "cluster_centers = kmeans.cluster_centers_\n",
    "print(cluster_centers)"
   ]
  },
  {
   "cell_type": "code",
   "execution_count": 29,
   "metadata": {},
   "outputs": [
    {
     "name": "stdout",
     "output_type": "stream",
     "text": [
      "Silhouette Score: 0.33\n",
      "   Silhouette Score                                    Cluster Centers\n",
      "0          0.327589  [0.61826724, 0.027102865, 0.011534049, 1.40666...\n"
     ]
    }
   ],
   "source": [
    "#Silhouette Score for K-Means\n",
    "silhouette_score_kmeans = silhouette_score(X_embeddings, kmeans.labels_)\n",
    "print(f\"Silhouette Score: {silhouette_score_kmeans:.2f}\")\n",
    "\n",
    "# Flatten the cluster centers array\n",
    "flattened_cluster_centers = cluster_centers.flatten()\n",
    "\n",
    "# Final clustering results\n",
    "clustering_results = {\n",
    "    \"Silhouette Score\": [silhouette_score_kmeans],\n",
    "    \"Cluster Centers\": [flattened_cluster_centers]\n",
    "}\n",
    "\n",
    "# Convert results to DataFrame and display\n",
    "df_clustering_results = pd.DataFrame(clustering_results)\n",
    "print(df_clustering_results)"
   ]
  },
  {
   "cell_type": "code",
   "execution_count": 30,
   "metadata": {},
   "outputs": [
    {
     "data": {
      "image/png": "[encoded data removed]",
      "text/plain": [
       "<Figure size 1200x600 with 1 Axes>"
      ]
     },
     "metadata": {},
     "output_type": "display_data"
    }
   ],
   "source": [
    "plt.figure(figsize=(12, 6))\n",
    "sns.countplot(x=\"KMeans_LLM_Cluster\", data=df, order=df[\"KMeans_LLM_Cluster\"].value_counts().index)\n",
    "plt.title(\"Customer Segmentation Based on K-Means with LLM Embeddings\")\n",
    "plt.xticks(rotation=45)\n",
    "plt.show()"
   ]
  },
  {
   "cell_type": "code",
   "execution_count": 35,
   "metadata": {},
   "outputs": [
    {
     "name": "stdout",
     "output_type": "stream",
     "text": [
      "                    Customer ID        Age  Purchase Amount (USD)  \\\n",
      "KMeans_LLM_Cluster                                                  \n",
      "0                   1959.759599  44.442404              60.255426   \n",
      "1                   1958.939551  43.782959              60.025331   \n",
      "2                   1945.501613  44.224194              59.838710   \n",
      "3                   1907.265432  44.311728              57.172840   \n",
      "\n",
      "                    Review Rating  Previous Purchases  \\\n",
      "KMeans_LLM_Cluster                                      \n",
      "0                        3.790651           25.232053   \n",
      "1                        3.723143           25.199194   \n",
      "2                        3.768629           25.725806   \n",
      "3                        3.746914           24.956790   \n",
      "\n",
      "                    Frequency of Purchases (Numeric)    Recency  Frequency  \\\n",
      "KMeans_LLM_Cluster                                                           \n",
      "0                                           0.326557  25.232053  17.654424   \n",
      "1                                           0.316107  25.199194  17.121474   \n",
      "2                                           0.313789  25.725806  17.003226   \n",
      "3                                           0.322016  24.956790  17.422840   \n",
      "\n",
      "                    Monetary  Loyalty_Score  Subscription_Status_Binary  \\\n",
      "KMeans_LLM_Cluster                                                        \n",
      "0                   0.503193      25.558611                         0.0   \n",
      "1                   0.500317      25.515301                         0.0   \n",
      "2                   0.497984      26.039595                         0.0   \n",
      "3                   0.464660      25.278807                         0.0   \n",
      "\n",
      "                    Engagement_Score  KMeans_LLM_Cluster   Cluster  \n",
      "KMeans_LLM_Cluster                                                  \n",
      "0                           3.790651                 0.0  1.000000  \n",
      "1                           3.723143                 1.0  2.000000  \n",
      "2                           3.768629                 2.0  1.945161  \n",
      "3                           3.746914                 3.0  2.000000  \n"
     ]
    }
   ],
   "source": [
    "# Define clusters & metrics\n",
    "numeric_columns = df.select_dtypes(include=[np.number]).columns\n",
    "cluster_means_llm = df.groupby(\"KMeans_LLM_Cluster\")[numeric_columns].mean()\n",
    "print(cluster_means_llm)\n",
    "\n",
    "# Number of variables\n",
    "categories = list(cluster_means_llm.columns)\n",
    "N = len(categories)\n",
    "\n",
    "# Convert to radar chart format\n",
    "values = cluster_means_llm.values\n",
    "cluster_names = [f'Cluster {i}' for i in range(len(cluster_means_llm))]\n",
    "angles = np.linspace(0, 2 * np.pi, N, endpoint=False).tolist()\n"
   ]
  },
  {
   "cell_type": "code",
   "execution_count": 37,
   "metadata": {},
   "outputs": [],
   "source": [
    "from sentence_transformers import SentenceTransformer\n",
    "\n",
    "# Sentence embedding model \n",
    "embedder = SentenceTransformer(\"all-MiniLM-L6-v2\")\n",
    "\n",
    "# Categorical/text columns to convert into embeddings\n",
    "text_columns = [\"Category\", \"Subscription Status\", \"Payment Method\"]\n",
    "\n",
    "# Categorical values into embeddings\n",
    "def encode_text_features(df, columns):\n",
    "    text_data = df[columns].astype(str).agg(\" \".join, axis=1)  # Concatenate selected text features\n",
    "    embeddings = embedder.encode(text_data, convert_to_numpy=True)  # Generate text embeddings\n",
    "    return embeddings\n",
    "\n",
    "# Text embeddings\n",
    "text_embeddings = encode_text_features(df, text_columns)\n",
    "\n",
    "# Stack with numerical features for clustering\n",
    "numerical_features = [\"Recency\", \"Frequency\", \"Monetary\", \"Engagement_Score\"]\n",
    "X_combined = np.hstack((df[numerical_features].values, text_embeddings))"
   ]
  },
  {
   "cell_type": "code",
   "execution_count": 38,
   "metadata": {},
   "outputs": [
    {
     "data": {
      "image/png": "[encoded data removed]",
      "text/plain": [
       "<Figure size 800x500 with 1 Axes>"
      ]
     },
     "metadata": {},
     "output_type": "display_data"
    },
    {
     "name": "stdout",
     "output_type": "stream",
     "text": [
      "Silhouette Score (LLM + K-Means): 0.4544503663566674\n",
      "Davies-Bouldin Index (LLM + K-Means): 0.7822053369796621\n"
     ]
    }
   ],
   "source": [
    "from sklearn.metrics import silhouette_score, davies_bouldin_score\n",
    "\n",
    "# Determine the optimal number of clusters (Elbow Method)\n",
    "inertia = []\n",
    "k_range = range(2, 11)\n",
    "\n",
    "for k in k_range:\n",
    "    kmeans = KMeans(n_clusters=k, random_state=42, n_init=10)\n",
    "    kmeans.fit(X_combined)\n",
    "    inertia.append(kmeans.inertia_)\n",
    "\n",
    "# Plot the Elbow Method\n",
    "import matplotlib.pyplot as plt\n",
    "\n",
    "plt.figure(figsize=(8, 5))\n",
    "plt.plot(k_range, inertia, marker=\"o\")\n",
    "plt.xlabel(\"Number of Clusters (k)\")\n",
    "plt.ylabel(\"Inertia (WCSS)\")\n",
    "plt.title(\"Elbow Method for LLM + K-Means Clustering\")\n",
    "plt.show()\n",
    "\n",
    "# Choose optimal number of clusters\n",
    "optimal_k_llm = 4  # Adjust based on elbow method\n",
    "\n",
    "# Apply K-Means with chosen k\n",
    "kmeans_llm = KMeans(n_clusters=optimal_k_llm, random_state=42, n_init=10)\n",
    "df[\"LLM_KMeans_Cluster\"] = kmeans_llm.fit_predict(X_combined)\n",
    "\n",
    "# Evaluate clustering quality\n",
    "silhouette_llm = silhouette_score(X_combined, df[\"LLM_KMeans_Cluster\"])\n",
    "davies_bouldin_llm = davies_bouldin_score(X_combined, df[\"LLM_KMeans_Cluster\"])\n",
    "\n",
    "# Display evaluation results\n",
    "print(\"Silhouette Score (LLM + K-Means):\", silhouette_llm)\n",
    "print(\"Davies-Bouldin Index (LLM + K-Means):\", davies_bouldin_llm)"
   ]
  },
  {
   "cell_type": "code",
   "execution_count": 39,
   "metadata": {},
   "outputs": [
    {
     "data": {
      "image/png": "[encoded data removed]",
      "text/plain": [
       "<Figure size 1000x600 with 2 Axes>"
      ]
     },
     "metadata": {},
     "output_type": "display_data"
    }
   ],
   "source": [
    "# Compute mean values for numerical features per cluster\n",
    "cluster_means_llm = df.groupby(\"LLM_KMeans_Cluster\")[numerical_features].mean()\n",
    "\n",
    "# Heatmap of cluster profiles\n",
    "plt.figure(figsize=(10, 6))\n",
    "sns.heatmap(cluster_means_llm, annot=True, cmap=\"coolwarm\")\n",
    "plt.title(\"LLM + K-Means Cluster Profiles\")\n",
    "plt.show()"
   ]
  }
 ],
 "metadata": {
  "kernelspec": {
   "display_name": "base",
   "language": "python",
   "name": "python3"
  },
  "language_info": {
   "codemirror_mode": {
    "name": "ipython",
    "version": 3
   },
   "file_extension": ".py",
   "mimetype": "text/x-python",
   "name": "python",
   "nbconvert_exporter": "python",
   "pygments_lexer": "ipython3",
   "version": "3.12.2"
  }
 },
 "nbformat": 4,
 "nbformat_minor": 2
}
