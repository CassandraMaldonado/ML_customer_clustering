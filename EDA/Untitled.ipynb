{
 "cells": [
  {
   "cell_type": "code",
   "execution_count": 11,
   "id": "a5fcca0d-78ac-45ec-a8c8-74e68ac16b82",
   "metadata": {},
   "outputs": [
    {
     "name": "stdout",
     "output_type": "stream",
     "text": [
      "Blouse Gray\n",
      "Blouse Maroon\n",
      "Blouse Turquoise\n",
      "Blouse White\n",
      "Blouse Charcoal\n",
      "Blouse Silver\n",
      "Blouse Pink\n",
      "Blouse Purple\n",
      "Blouse Olive\n",
      "Blouse Gold\n",
      "CSV file 'item_color_combinations_with_images.csv' has been created.\n"
     ]
    }
   ],
   "source": [
    "import pandas as pd\n",
    "import requests\n",
    "from bs4 import BeautifulSoup\n",
    "from urllib.parse import quote_plus\n",
    "import time\n",
    "\n",
    "df = pd.read_csv('item_color_combinations.csv')\n",
    "\n",
    "# Define your list of items and colors\n",
    "items = df['Item'].to_list()  # Add all your items here\n",
    "colors = df['Color'].to_list() # Add all your colors here\n",
    "\n",
    "# Initialize a list to store the combinations and their image URLs\n",
    "data = []\n",
    "\n",
    "# Function to search for an image URL\n",
    "def search_image_url(item, color):\n",
    "    query = quote_plus(f\"{color} {item}\")\n",
    "    url = f\"https://www.pexels.com/search/{query}/\"\n",
    "    response = requests.get(url)\n",
    "    soup = BeautifulSoup(response.text, 'html.parser')\n",
    "    image_tag = soup.find('img', {'class': 'photo-item__img'})\n",
    "    if image_tag:\n",
    "        return image_tag['src']\n",
    "    else:\n",
    "        return 'No image found'\n",
    "\n",
    "# Generate combinations and find image URLs\n",
    "i = 0\n",
    "for item in items:\n",
    "    \n",
    "    for color in colors:\n",
    "        print(item, color)\n",
    "        image_url = search_image_url(item, color)\n",
    "        data.append({'Item': item, 'Color': color, 'Image URL': image_url})\n",
    "        time.sleep(1)  # Pause to avoid overwhelming the server\n",
    "        i += 1\n",
    "        if i == 10:\n",
    "            break\n",
    "    if i == 10:\n",
    "        break\n",
    "\n",
    "# Create a DataFrame and save to CSV\n",
    "df = pd.DataFrame(data)\n",
    "df.to_csv('item_color_combinations_with_images.csv', index=False)\n",
    "\n",
    "print(\"CSV file 'item_color_combinations_with_images.csv' has been created.\")"
   ]
  },
  {
   "cell_type": "code",
   "execution_count": null,
   "id": "e47a4e78-40e9-45de-8b48-8545f98f618a",
   "metadata": {},
   "outputs": [],
   "source": []
  }
 ],
 "metadata": {
  "kernelspec": {
   "display_name": "Python [conda env:base] *",
   "language": "python",
   "name": "conda-base-py"
  },
  "language_info": {
   "codemirror_mode": {
    "name": "ipython",
    "version": 3
   },
   "file_extension": ".py",
   "mimetype": "text/x-python",
   "name": "python",
   "nbconvert_exporter": "python",
   "pygments_lexer": "ipython3",
   "version": "3.12.7"
  }
 },
 "nbformat": 4,
 "nbformat_minor": 5
}
