{
 "cells": [
  {
   "cell_type": "code",
   "execution_count": 14,
   "id": "4be35513-f4c5-4102-a723-e262a377e516",
   "metadata": {},
   "outputs": [],
   "source": [
    "import pandas as pd\n",
    "from sklearn.metrics.pairwise import cosine_similarity\n",
    "\n",
    "# Load the dataset\n",
    "file_path = \"shopping_behavior_updated.csv\"\n",
    "df = pd.read_csv(file_path)\n",
    "\n",
    "# Select relevant features\n",
    "features = ['Item Purchased', 'Color', 'Season']\n",
    "\n",
    "# One-hot encode categorical features\n",
    "df_encoded = pd.get_dummies(df[features])\n",
    "\n",
    "# Compute similarity matrix\n",
    "similarity_matrix = cosine_similarity(df_encoded)\n",
    "\n",
    "# Convert to DataFrame with appropriate indexing\n",
    "similarity_df = pd.DataFrame(similarity_matrix, index=df[features].apply(lambda x: f\"{x['Item Purchased']}-{x['Color']}-{x['Season']}\", axis=1), \n",
    "                             columns=df[features].apply(lambda x: f\"{x['Item Purchased']}-{x['Color']}-{x['Season']}\", axis=1))\n",
    "similarity_df.to_csv('test_similiarity.csv')"
   ]
  },
  {
   "cell_type": "code",
   "execution_count": 22,
   "id": "a14db23a-f63b-48ac-8766-915654d7aa84",
   "metadata": {},
   "outputs": [
    {
     "data": {
      "text/plain": [
       "Item_ID\n",
       "Backpack-Beige-Fall    0.0\n",
       "Shirt-Orange-Summer    0.0\n",
       "Shirt-Red-Winter       0.0\n",
       "Shirt-Red-Summer       0.0\n",
       "Shirt-Red-Spring       0.0\n",
       "dtype: float64"
      ]
     },
     "execution_count": 22,
     "metadata": {},
     "output_type": "execute_result"
    }
   ],
   "source": [
    "import pandas as pd\n",
    "from sklearn.metrics.pairwise import cosine_similarity\n",
    "\n",
    "# Load the dataset\n",
    "file_path = \"shopping_behavior_updated.csv\"\n",
    "df = pd.read_csv(file_path)\n",
    "\n",
    "# Select relevant features\n",
    "features = ['Customer ID', 'Item Purchased', 'Color', 'Season']\n",
    "\n",
    "# Create unique item identifier\n",
    "df['Item_ID'] = df.apply(lambda x: f\"{x['Item Purchased']}-{x['Color']}-{x['Season']}\", axis=1)\n",
    "\n",
    "# Create User-Item Interaction Matrix\n",
    "user_item_matrix = df.pivot_table(index='Customer ID', columns='Item_ID', aggfunc='size', fill_value=0)\n",
    "\n",
    "# Compute Item Similarity\n",
    "item_similarity = cosine_similarity(user_item_matrix.T)\n",
    "\n",
    "# Convert to DataFrame\n",
    "item_similarity_df = pd.DataFrame(item_similarity, index=user_item_matrix.columns, columns=user_item_matrix.columns)\n",
    "\n",
    "# Function to Recommend Items\n",
    "def recommend_items(user_id, user_item_matrix, item_similarity_df, top_n=5):\n",
    "    user_purchases = user_item_matrix.loc[user_id]\n",
    "    purchased_items = user_purchases[user_purchases > 0].index.tolist()\n",
    "    \n",
    "    scores = pd.Series(dtype=float)\n",
    "    for item in purchased_items:\n",
    "        similar_items = item_similarity_df[item].drop(purchased_items, errors='ignore')\n",
    "        scores = scores.add(similar_items, fill_value=0)\n",
    "    \n",
    "    return scores.sort_values(ascending=False).head(top_n)\n",
    "\n",
    "# Example: Get recommendations for a random user\n",
    "example_user = df['Customer ID'].sample(1).values[0]\n",
    "recommended_items = recommend_items(example_user, user_item_matrix, item_similarity_df)\n",
    "\n",
    "recommended_items"
   ]
  },
  {
   "cell_type": "code",
   "execution_count": 34,
   "id": "104f4b3d-d48e-4ad3-9ac1-19484758630f",
   "metadata": {},
   "outputs": [
    {
     "data": {
      "text/plain": [
       "Item_ID\n",
       "Backpack-Beige-Fall    0.0\n",
       "Shirt-Orange-Summer    0.0\n",
       "Shirt-Red-Winter       0.0\n",
       "Shirt-Red-Summer       0.0\n",
       "Shirt-Red-Spring       0.0\n",
       "dtype: float64"
      ]
     },
     "execution_count": 34,
     "metadata": {},
     "output_type": "execute_result"
    }
   ],
   "source": [
    "import pandas as pd\n",
    "import numpy as np\n",
    "from sklearn.metrics import pairwise_distances\n",
    "\n",
    "# Load the dataset\n",
    "file_path = \"shopping_behavior_updated.csv\"\n",
    "df = pd.read_csv(file_path)\n",
    "\n",
    "# Select relevant features\n",
    "features = ['Customer ID', 'Item Purchased', 'Color', 'Season']\n",
    "\n",
    "# Create unique item identifier\n",
    "df['Item_ID'] = df.apply(lambda x: f\"{x['Item Purchased']}-{x['Color']}-{x['Season']}\", axis=1)\n",
    "\n",
    "# Create User-Item Interaction Matrix\n",
    "user_item_matrix = df.pivot_table(index='Customer ID', columns='Item_ID', aggfunc='size', fill_value=0)\n",
    "\n",
    "# Convert to binary NumPy array for Jaccard Similarity\n",
    "user_item_matrix_np = user_item_matrix.astype(bool).values\n",
    "\n",
    "# Compute Item Similarity using Jaccard Similarity\n",
    "item_similarity = 1 - pairwise_distances(user_item_matrix_np.T, metric=\"jaccard\")\n",
    "\n",
    "# Convert to DataFrame\n",
    "item_similarity_df = pd.DataFrame(item_similarity, index=user_item_matrix.columns, columns=user_item_matrix.columns)\n",
    "\n",
    "# Function to Recommend Items\n",
    "def recommend_items(user_id, user_item_matrix, item_similarity_df, top_n=5):\n",
    "    user_purchases = user_item_matrix.loc[user_id]\n",
    "    purchased_items = user_purchases[user_purchases > 0].index.tolist()\n",
    "    \n",
    "    scores = pd.Series(dtype=float)\n",
    "    for item in purchased_items:\n",
    "        similar_items = item_similarity_df[item].drop(purchased_items, errors='ignore')\n",
    "        scores = scores.add(similar_items, fill_value=0)\n",
    "    \n",
    "    return scores.sort_values(ascending=False).head(top_n)\n",
    "\n",
    "# Example: Get recommendations for a random user\n",
    "example_user = df['Customer ID'].sample(1).values[0]\n",
    "recommended_items = recommend_items(example_user, user_item_matrix, item_similarity_df)\n",
    "\n",
    "recommended_items\n"
   ]
  },
  {
   "cell_type": "code",
   "execution_count": null,
   "id": "9ffc017a-84af-4f1a-8d77-02a654e3efc8",
   "metadata": {},
   "outputs": [],
   "source": []
  }
 ],
 "metadata": {
  "kernelspec": {
   "display_name": "Python [conda env:base] *",
   "language": "python",
   "name": "conda-base-py"
  },
  "language_info": {
   "codemirror_mode": {
    "name": "ipython",
    "version": 3
   },
   "file_extension": ".py",
   "mimetype": "text/x-python",
   "name": "python",
   "nbconvert_exporter": "python",
   "pygments_lexer": "ipython3",
   "version": "3.12.7"
  }
 },
 "nbformat": 4,
 "nbformat_minor": 5
}
